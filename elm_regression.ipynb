{
 "cells": [
  {
   "cell_type": "code",
   "execution_count": 1,
   "id": "d77bb6a8-3f64-4996-bdea-6f97b5748260",
   "metadata": {},
   "outputs": [
    {
     "name": "stderr",
     "output_type": "stream",
     "text": [
      "2022-01-10 10:57:53.318670: W tensorflow/stream_executor/platform/default/dso_loader.cc:64] Could not load dynamic library 'libcudart.so.11.0'; dlerror: libcudart.so.11.0: cannot open shared object file: No such file or directory\n",
      "2022-01-10 10:57:53.318705: I tensorflow/stream_executor/cuda/cudart_stub.cc:29] Ignore above cudart dlerror if you do not have a GPU set up on your machine.\n"
     ]
    }
   ],
   "source": [
    "import time\n",
    "from sklearn.metrics import mean_squared_error\n",
    "from tensorflow.keras.datasets import boston_housing\n",
    "\n",
    "import elm\n",
    "from sklearn.linear_model import Ridge\n",
    "from sklearn.svm import SVR\n",
    "from sklearn.neighbors import KNeighborsRegressor\n",
    "from sklearn.tree import DecisionTreeRegressor\n",
    "from sklearn.ensemble import RandomForestRegressor\n",
    "from sklearn.neural_network import MLPRegressor"
   ]
  },
  {
   "cell_type": "code",
   "execution_count": 2,
   "id": "0b37384d-890f-468b-9814-92584c3b4680",
   "metadata": {},
   "outputs": [],
   "source": [
    "(Xtrain, ytrain), (Xtest, ytest) = boston_housing.load_data()"
   ]
  },
  {
   "cell_type": "code",
   "execution_count": 3,
   "id": "9483fdf1-25b6-48ef-9cc1-e204b75d4ae5",
   "metadata": {},
   "outputs": [],
   "source": [
    "random_state = 12"
   ]
  },
  {
   "cell_type": "code",
   "execution_count": 4,
   "id": "246a5a55-71f2-49ce-bda0-23ed2bc9b563",
   "metadata": {},
   "outputs": [],
   "source": [
    "n_hiddens = 256\n",
    "\n",
    "algorithms = [\n",
    "    ('ELM', elm.ELMRegressor(n_hiddens=n_hiddens, random_state=random_state)),\n",
    "    ('Ridge Regression', Ridge(random_state=random_state)),\n",
    "    ('Support Vector Machine', SVR()),\n",
    "    ('K-Nearest Neighbors', KNeighborsRegressor()),\n",
    "    ('Decision Tree', DecisionTreeRegressor(random_state=random_state)),\n",
    "    ('Random Forest', RandomForestRegressor(random_state=random_state)),\n",
    "    ('Perceptron (back-propagation)', MLPRegressor(hidden_layer_sizes=(n_hiddens,), random_state=random_state))\n",
    "]"
   ]
  },
  {
   "cell_type": "code",
   "execution_count": 5,
   "id": "aee138d7-ba9e-445c-939d-003c4ddfb03c",
   "metadata": {},
   "outputs": [
    {
     "name": "stdout",
     "output_type": "stream",
     "text": [
      "ELM cost 54.62 miliseconds\n",
      "Ridge Regression cost 2.66 miliseconds\n",
      "Support Vector Machine cost 26.32 miliseconds\n",
      "K-Nearest Neighbors cost 1.97 miliseconds\n",
      "Decision Tree cost 7.2 miliseconds\n",
      "Random Forest cost 293.13 miliseconds\n",
      "Perceptron (back-propagation) cost 237.5 miliseconds\n"
     ]
    }
   ],
   "source": [
    "for name, model in algorithms:\n",
    "    start_time = time.perf_counter()\n",
    "    model.fit(Xtrain, ytrain)\n",
    "    end_time = time.perf_counter()\n",
    "    \n",
    "    consumed_time = round((end_time - start_time) * 1000, 2)\n",
    "    print(f'{name} cost {consumed_time} miliseconds')"
   ]
  },
  {
   "cell_type": "code",
   "execution_count": 6,
   "id": "ecbfcbca-32e6-4686-ad7b-8247eea7c6fa",
   "metadata": {},
   "outputs": [
    {
     "name": "stdout",
     "output_type": "stream",
     "text": [
      "ELM has RMSE train: 4.69, RMSE test: 4.82\n",
      "Ridge Regression has RMSE train: 4.72, RMSE test: 4.75\n",
      "Support Vector Machine has RMSE train: 8.25, RMSE test: 8.15\n",
      "K-Nearest Neighbors has RMSE train: 4.98, RMSE test: 6.08\n",
      "Decision Tree has RMSE train: 0.0, RMSE test: 5.1\n",
      "Random Forest has RMSE train: 1.19, RMSE test: 3.8\n",
      "Perceptron (back-propagation) has RMSE train: 6.94, RMSE test: 7.43\n"
     ]
    }
   ],
   "source": [
    "for name, model in algorithms:\n",
    "    \n",
    "    train_pred = model.predict(Xtrain)\n",
    "    test_pred = model.predict(Xtest)\n",
    "\n",
    "    rmse_train = round(mean_squared_error(ytrain, train_pred, squared=False), 2)\n",
    "    rmse_test = round(mean_squared_error(ytest, test_pred, squared=False), 2)\n",
    "\n",
    "    print(f'{name} has RMSE train: {rmse_train}, RMSE test: {rmse_test}')"
   ]
  }
 ],
 "metadata": {
  "kernelspec": {
   "display_name": "default:Python",
   "language": "python",
   "name": "conda-env-default-py"
  },
  "language_info": {
   "codemirror_mode": {
    "name": "ipython",
    "version": 3
   },
   "file_extension": ".py",
   "mimetype": "text/x-python",
   "name": "python",
   "nbconvert_exporter": "python",
   "pygments_lexer": "ipython3",
   "version": "3.9.7"
  }
 },
 "nbformat": 4,
 "nbformat_minor": 5
}
