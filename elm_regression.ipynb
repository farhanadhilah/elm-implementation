{
 "cells": [
  {
   "cell_type": "code",
   "execution_count": 1,
   "id": "d77bb6a8-3f64-4996-bdea-6f97b5748260",
   "metadata": {},
   "outputs": [
    {
     "name": "stderr",
     "output_type": "stream",
     "text": [
      "2022-01-10 09:37:04.493597: W tensorflow/stream_executor/platform/default/dso_loader.cc:64] Could not load dynamic library 'libcudart.so.11.0'; dlerror: libcudart.so.11.0: cannot open shared object file: No such file or directory\n",
      "2022-01-10 09:37:04.493659: I tensorflow/stream_executor/cuda/cudart_stub.cc:29] Ignore above cudart dlerror if you do not have a GPU set up on your machine.\n"
     ]
    }
   ],
   "source": [
    "import elm\n",
    "from sklearn.metrics import mean_squared_error\n",
    "from sklearn.neural_network import MLPRegressor\n",
    "from tensorflow.keras.datasets import boston_housing"
   ]
  },
  {
   "cell_type": "code",
   "execution_count": 2,
   "id": "0b37384d-890f-468b-9814-92584c3b4680",
   "metadata": {},
   "outputs": [],
   "source": [
    "(Xtrain, ytrain), (Xtest, ytest) = boston_housing.load_data()"
   ]
  },
  {
   "cell_type": "code",
   "execution_count": 3,
   "id": "8c61645d-616e-45fe-8fb8-fe753034920b",
   "metadata": {},
   "outputs": [],
   "source": [
    "n_hiddens = 500"
   ]
  },
  {
   "cell_type": "code",
   "execution_count": 4,
   "id": "54d97ae3-68f0-4756-af51-cb16a7198ea2",
   "metadata": {},
   "outputs": [
    {
     "name": "stdout",
     "output_type": "stream",
     "text": [
      "CPU times: user 160 ms, sys: 153 ms, total: 313 ms\n",
      "Wall time: 198 ms\n"
     ]
    },
    {
     "data": {
      "text/plain": [
       "<elm.ELMRegressor at 0x7ff89c6406a0>"
      ]
     },
     "execution_count": 4,
     "metadata": {},
     "output_type": "execute_result"
    }
   ],
   "source": [
    "%%time\n",
    "\n",
    "model = elm.ELMRegressor(n_hiddens=n_hiddens)\n",
    "model.fit(Xtrain, ytrain)"
   ]
  },
  {
   "cell_type": "code",
   "execution_count": 5,
   "id": "20224687-3cda-4a9f-8953-5a80bde99c7b",
   "metadata": {},
   "outputs": [
    {
     "name": "stdout",
     "output_type": "stream",
     "text": [
      "ELM MSE train: 22.004800838348437\n",
      "ELM MSE test: 23.19559925642418\n"
     ]
    }
   ],
   "source": [
    "train_pred = model.predict(Xtrain)\n",
    "test_pred = model.predict(Xtest)\n",
    "\n",
    "mse_train = mean_squared_error(ytrain, train_pred)\n",
    "mse_test = mean_squared_error(ytest, test_pred)\n",
    "\n",
    "print(\"ELM MSE train:\", mse_train)\n",
    "print(\"ELM MSE test:\", mse_test)"
   ]
  }
 ],
 "metadata": {
  "kernelspec": {
   "display_name": "default:Python",
   "language": "python",
   "name": "conda-env-default-py"
  },
  "language_info": {
   "codemirror_mode": {
    "name": "ipython",
    "version": 3
   },
   "file_extension": ".py",
   "mimetype": "text/x-python",
   "name": "python",
   "nbconvert_exporter": "python",
   "pygments_lexer": "ipython3",
   "version": "3.9.7"
  }
 },
 "nbformat": 4,
 "nbformat_minor": 5
}
