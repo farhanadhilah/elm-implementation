{
 "cells": [
  {
   "cell_type": "code",
   "execution_count": 1,
   "id": "82e8c904-6852-4340-8353-e0790aea7ca2",
   "metadata": {},
   "outputs": [
    {
     "name": "stderr",
     "output_type": "stream",
     "text": [
      "2022-01-10 09:37:28.644936: W tensorflow/stream_executor/platform/default/dso_loader.cc:64] Could not load dynamic library 'libcudart.so.11.0'; dlerror: libcudart.so.11.0: cannot open shared object file: No such file or directory\n",
      "2022-01-10 09:37:28.644965: I tensorflow/stream_executor/cuda/cudart_stub.cc:29] Ignore above cudart dlerror if you do not have a GPU set up on your machine.\n"
     ]
    }
   ],
   "source": [
    "import elm\n",
    "from tensorflow.keras.datasets import mnist\n",
    "from sklearn.metrics import accuracy_score"
   ]
  },
  {
   "cell_type": "code",
   "execution_count": 2,
   "id": "100b3b83-9f2a-4773-ae9d-cf14250e8d0d",
   "metadata": {},
   "outputs": [],
   "source": [
    "(Xtrain, ytrain), (Xtest, ytest) = mnist.load_data()"
   ]
  },
  {
   "cell_type": "code",
   "execution_count": 3,
   "id": "939f5b4e-e608-47ef-a09f-346fa8221ae2",
   "metadata": {},
   "outputs": [],
   "source": [
    "Xtrain = Xtrain.reshape(-1, 28 * 28)\n",
    "Xtest = Xtest.reshape(-1, 28 * 28)"
   ]
  },
  {
   "cell_type": "code",
   "execution_count": 4,
   "id": "7725c869-f651-4ce0-8f25-5b0285b686db",
   "metadata": {},
   "outputs": [
    {
     "data": {
      "text/plain": [
       "((60000, 784), (10000, 784))"
      ]
     },
     "execution_count": 4,
     "metadata": {},
     "output_type": "execute_result"
    }
   ],
   "source": [
    "Xtrain.shape, Xtest.shape"
   ]
  },
  {
   "cell_type": "code",
   "execution_count": 5,
   "id": "a8842807-8640-4401-9cc8-f19278ee94de",
   "metadata": {},
   "outputs": [],
   "source": [
    "n_hiddens = 500"
   ]
  },
  {
   "cell_type": "code",
   "execution_count": 6,
   "id": "8156990e-e201-4fd3-ad62-a23b07fa7a46",
   "metadata": {},
   "outputs": [
    {
     "name": "stdout",
     "output_type": "stream",
     "text": [
      "CPU times: user 13.5 s, sys: 2.11 s, total: 15.6 s\n",
      "Wall time: 4.73 s\n"
     ]
    },
    {
     "data": {
      "text/plain": [
       "<elm.ELMClassifier at 0x7fcc1fac4550>"
      ]
     },
     "execution_count": 6,
     "metadata": {},
     "output_type": "execute_result"
    }
   ],
   "source": [
    "%%time\n",
    "\n",
    "model = elm.ELMClassifier(n_hiddens=n_hiddens)\n",
    "model.fit(Xtrain, ytrain)"
   ]
  },
  {
   "cell_type": "code",
   "execution_count": 7,
   "id": "e09eab4f-aa75-4759-b193-e61acd309500",
   "metadata": {},
   "outputs": [
    {
     "name": "stdout",
     "output_type": "stream",
     "text": [
      "ELM Accuracy train: 0.9194\n",
      "ELM Accuracy test: 0.9222\n"
     ]
    }
   ],
   "source": [
    "train_pred = model.predict(Xtrain)\n",
    "test_pred = model.predict(Xtest)\n",
    "\n",
    "acc_train = accuracy_score(ytrain, train_pred)\n",
    "acc_test = accuracy_score(ytest, test_pred)\n",
    "\n",
    "print(\"ELM Accuracy train:\", acc_train)\n",
    "print(\"ELM Accuracy test:\", acc_test)"
   ]
  }
 ],
 "metadata": {
  "kernelspec": {
   "display_name": "default:Python",
   "language": "python",
   "name": "conda-env-default-py"
  },
  "language_info": {
   "codemirror_mode": {
    "name": "ipython",
    "version": 3
   },
   "file_extension": ".py",
   "mimetype": "text/x-python",
   "name": "python",
   "nbconvert_exporter": "python",
   "pygments_lexer": "ipython3",
   "version": "3.9.7"
  }
 },
 "nbformat": 4,
 "nbformat_minor": 5
}
