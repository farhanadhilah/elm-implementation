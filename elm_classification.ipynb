{
 "cells": [
  {
   "cell_type": "code",
   "execution_count": 1,
   "id": "82e8c904-6852-4340-8353-e0790aea7ca2",
   "metadata": {},
   "outputs": [
    {
     "name": "stderr",
     "output_type": "stream",
     "text": [
      "2022-01-10 11:21:44.972882: W tensorflow/stream_executor/platform/default/dso_loader.cc:64] Could not load dynamic library 'libcudart.so.11.0'; dlerror: libcudart.so.11.0: cannot open shared object file: No such file or directory\n",
      "2022-01-10 11:21:44.972917: I tensorflow/stream_executor/cuda/cudart_stub.cc:29] Ignore above cudart dlerror if you do not have a GPU set up on your machine.\n"
     ]
    }
   ],
   "source": [
    "import time\n",
    "from tensorflow.keras.datasets import mnist\n",
    "from sklearn.metrics import accuracy_score\n",
    "\n",
    "import elm\n",
    "from sklearn.linear_model import LogisticRegression\n",
    "from sklearn.svm import SVC\n",
    "from sklearn.neighbors import KNeighborsClassifier\n",
    "from sklearn.tree import DecisionTreeClassifier\n",
    "from sklearn.ensemble import RandomForestClassifier\n",
    "from sklearn.neural_network import MLPClassifier"
   ]
  },
  {
   "cell_type": "code",
   "execution_count": 2,
   "id": "100b3b83-9f2a-4773-ae9d-cf14250e8d0d",
   "metadata": {},
   "outputs": [],
   "source": [
    "(Xtrain, ytrain), (Xtest, ytest) = mnist.load_data()"
   ]
  },
  {
   "cell_type": "code",
   "execution_count": 3,
   "id": "939f5b4e-e608-47ef-a09f-346fa8221ae2",
   "metadata": {},
   "outputs": [],
   "source": [
    "Xtrain = Xtrain.reshape(-1, 28 * 28)\n",
    "Xtest = Xtest.reshape(-1, 28 * 28)"
   ]
  },
  {
   "cell_type": "code",
   "execution_count": 4,
   "id": "7725c869-f651-4ce0-8f25-5b0285b686db",
   "metadata": {},
   "outputs": [
    {
     "data": {
      "text/plain": [
       "((60000, 784), (10000, 784))"
      ]
     },
     "execution_count": 4,
     "metadata": {},
     "output_type": "execute_result"
    }
   ],
   "source": [
    "Xtrain.shape, Xtest.shape"
   ]
  },
  {
   "cell_type": "code",
   "execution_count": 5,
   "id": "f96146fb-f5cb-45e5-aa84-a54ba64dd633",
   "metadata": {},
   "outputs": [],
   "source": [
    "random_state = 12"
   ]
  },
  {
   "cell_type": "code",
   "execution_count": 6,
   "id": "8156990e-e201-4fd3-ad62-a23b07fa7a46",
   "metadata": {},
   "outputs": [],
   "source": [
    "n_hiddens = 500\n",
    "\n",
    "algorithms = [\n",
    "    ('ELM', elm.ELMClassifier(n_hiddens=n_hiddens, random_state=random_state)),\n",
    "    ('Logistic Regression', LogisticRegression(random_state=random_state)),\n",
    "    ('Support Vector Machine', SVC()),\n",
    "    ('K-Nearest Neighbors', KNeighborsClassifier()),\n",
    "    ('Decision Tree', DecisionTreeClassifier(random_state=random_state)),\n",
    "    ('Random Forest', RandomForestClassifier(random_state=random_state)),\n",
    "    ('Perceptron (back-propagation)', MLPClassifier(hidden_layer_sizes=(n_hiddens,), random_state=random_state))\n",
    "]"
   ]
  },
  {
   "cell_type": "code",
   "execution_count": 7,
   "id": "e09eab4f-aa75-4759-b193-e61acd309500",
   "metadata": {},
   "outputs": [
    {
     "name": "stdout",
     "output_type": "stream",
     "text": [
      "ELM cost 4754.13 miliseconds\n"
     ]
    },
    {
     "name": "stderr",
     "output_type": "stream",
     "text": [
      "/home/studio-lab-user/.conda/envs/default/lib/python3.9/site-packages/sklearn/linear_model/_logistic.py:814: ConvergenceWarning: lbfgs failed to converge (status=1):\n",
      "STOP: TOTAL NO. of ITERATIONS REACHED LIMIT.\n",
      "\n",
      "Increase the number of iterations (max_iter) or scale the data as shown in:\n",
      "    https://scikit-learn.org/stable/modules/preprocessing.html\n",
      "Please also refer to the documentation for alternative solver options:\n",
      "    https://scikit-learn.org/stable/modules/linear_model.html#logistic-regression\n",
      "  n_iter_i = _check_optimize_result(\n"
     ]
    },
    {
     "name": "stdout",
     "output_type": "stream",
     "text": [
      "Logistic Regression cost 21112.03 miliseconds\n",
      "Support Vector Machine cost 280275.89 miliseconds\n",
      "K-Nearest Neighbors cost 5.07 miliseconds\n",
      "Decision Tree cost 17913.2 miliseconds\n",
      "Random Forest cost 37244.7 miliseconds\n",
      "Perceptron (back-propagation) cost 379703.05 miliseconds\n"
     ]
    }
   ],
   "source": [
    "for name, model in algorithms:\n",
    "    start_time = time.perf_counter()\n",
    "    model.fit(Xtrain, ytrain)\n",
    "    end_time = time.perf_counter()\n",
    "    \n",
    "    consumed_time = round((end_time - start_time) * 1000, 2)\n",
    "    print(f'{name} cost {consumed_time} miliseconds')"
   ]
  },
  {
   "cell_type": "code",
   "execution_count": 8,
   "id": "449eda1c-03ab-4cd1-ae25-402f05158ca2",
   "metadata": {},
   "outputs": [
    {
     "name": "stdout",
     "output_type": "stream",
     "text": [
      "ELM has accuracy train: 91.94, accuracy test: 92.22\n",
      "Logistic Regression has accuracy train: 93.39, accuracy test: 92.55\n",
      "Support Vector Machine has accuracy train: 98.99, accuracy test: 97.92\n",
      "K-Nearest Neighbors has accuracy train: 98.19, accuracy test: 96.88\n",
      "Decision Tree has accuracy train: 100.0, accuracy test: 87.68\n",
      "Random Forest has accuracy train: 100.0, accuracy test: 96.95\n",
      "Perceptron (back-propagation) has accuracy train: 99.73, accuracy test: 97.85\n"
     ]
    }
   ],
   "source": [
    "for name, model in algorithms:\n",
    "    \n",
    "    train_pred = model.predict(Xtrain)\n",
    "    test_pred = model.predict(Xtest)\n",
    "\n",
    "    acc_train = round(accuracy_score(ytrain, train_pred) * 100, 2)\n",
    "    acc_test = round(accuracy_score(ytest, test_pred) * 100, 2)\n",
    "\n",
    "    print(f'{name} has accuracy train: {acc_train}, accuracy test: {acc_test}')"
   ]
  }
 ],
 "metadata": {
  "kernelspec": {
   "display_name": "default:Python",
   "language": "python",
   "name": "conda-env-default-py"
  },
  "language_info": {
   "codemirror_mode": {
    "name": "ipython",
    "version": 3
   },
   "file_extension": ".py",
   "mimetype": "text/x-python",
   "name": "python",
   "nbconvert_exporter": "python",
   "pygments_lexer": "ipython3",
   "version": "3.9.7"
  }
 },
 "nbformat": 4,
 "nbformat_minor": 5
}
